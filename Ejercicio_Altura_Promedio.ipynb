{
  "nbformat": 4,
  "nbformat_minor": 0,
  "metadata": {
    "colab": {
      "provenance": [],
      "authorship_tag": "ABX9TyOIEL+2ULY8vLn9rHIVnT9O",
      "include_colab_link": true
    },
    "kernelspec": {
      "name": "python3",
      "display_name": "Python 3"
    },
    "language_info": {
      "name": "python"
    }
  },
  "cells": [
    {
      "cell_type": "markdown",
      "metadata": {
        "id": "view-in-github",
        "colab_type": "text"
      },
      "source": [
        "<a href=\"https://colab.research.google.com/github/SteelworkerDB/CD_WEEK3/blob/main/Ejercicio_Altura_Promedio.ipynb\" target=\"_parent\"><img src=\"https://colab.research.google.com/assets/colab-badge.svg\" alt=\"Open In Colab\"/></a>"
      ]
    },
    {
      "cell_type": "markdown",
      "source": [
        "\n",
        "#**EJERCICIO ALTURA PROMEDIO**\n",
        "\n",
        "---\n",
        "\n"
      ],
      "metadata": {
        "id": "mE0Bh8d_h1XU"
      }
    },
    {
      "cell_type": "code",
      "source": [
        "import pandas as pd\n",
        "filename='/content/athleteEventsNoPersonal.csv'\n",
        "oli_df=pd.read_csv(filename)"
      ],
      "metadata": {
        "id": "-n1ezmTPh24s"
      },
      "execution_count": 28,
      "outputs": []
    },
    {
      "cell_type": "code",
      "source": [
        "#VISUALIZACION DEL ENCABEZADO\n",
        "oli_df.head()"
      ],
      "metadata": {
        "colab": {
          "base_uri": "https://localhost:8080/",
          "height": 206
        },
        "id": "0ryOX0X9ihue",
        "outputId": "9235de67-2404-4d9c-a555-2ec12c195ddf"
      },
      "execution_count": 29,
      "outputs": [
        {
          "output_type": "execute_result",
          "data": {
            "text/plain": [
              "   ID   Age  Height         Team  NOC        Games  Year  Season         City  \\\n",
              "0   5  21.0   185.0  Netherlands  NED  1988 Winter  1988  Winter      Calgary   \n",
              "1   5  21.0   185.0  Netherlands  NED  1988 Winter  1988  Winter      Calgary   \n",
              "2   5  25.0   185.0  Netherlands  NED  1992 Winter  1992  Winter  Albertville   \n",
              "3   5  25.0   185.0  Netherlands  NED  1992 Winter  1992  Winter  Albertville   \n",
              "4   5  27.0   185.0  Netherlands  NED  1994 Winter  1994  Winter  Lillehammer   \n",
              "\n",
              "           Sport                               Event Medal  \n",
              "0  Speed Skating    Speed Skating Women's 500 metres   NaN  \n",
              "1  Speed Skating  Speed Skating Women's 1,000 metres   NaN  \n",
              "2  Speed Skating    Speed Skating Women's 500 metres   NaN  \n",
              "3  Speed Skating  Speed Skating Women's 1,000 metres   NaN  \n",
              "4  Speed Skating    Speed Skating Women's 500 metres   NaN  "
            ],
            "text/html": [
              "\n",
              "\n",
              "  <div id=\"df-657fc796-c3af-4e94-8016-0ef9eedc6a55\">\n",
              "    <div class=\"colab-df-container\">\n",
              "      <div>\n",
              "<style scoped>\n",
              "    .dataframe tbody tr th:only-of-type {\n",
              "        vertical-align: middle;\n",
              "    }\n",
              "\n",
              "    .dataframe tbody tr th {\n",
              "        vertical-align: top;\n",
              "    }\n",
              "\n",
              "    .dataframe thead th {\n",
              "        text-align: right;\n",
              "    }\n",
              "</style>\n",
              "<table border=\"1\" class=\"dataframe\">\n",
              "  <thead>\n",
              "    <tr style=\"text-align: right;\">\n",
              "      <th></th>\n",
              "      <th>ID</th>\n",
              "      <th>Age</th>\n",
              "      <th>Height</th>\n",
              "      <th>Team</th>\n",
              "      <th>NOC</th>\n",
              "      <th>Games</th>\n",
              "      <th>Year</th>\n",
              "      <th>Season</th>\n",
              "      <th>City</th>\n",
              "      <th>Sport</th>\n",
              "      <th>Event</th>\n",
              "      <th>Medal</th>\n",
              "    </tr>\n",
              "  </thead>\n",
              "  <tbody>\n",
              "    <tr>\n",
              "      <th>0</th>\n",
              "      <td>5</td>\n",
              "      <td>21.0</td>\n",
              "      <td>185.0</td>\n",
              "      <td>Netherlands</td>\n",
              "      <td>NED</td>\n",
              "      <td>1988 Winter</td>\n",
              "      <td>1988</td>\n",
              "      <td>Winter</td>\n",
              "      <td>Calgary</td>\n",
              "      <td>Speed Skating</td>\n",
              "      <td>Speed Skating Women's 500 metres</td>\n",
              "      <td>NaN</td>\n",
              "    </tr>\n",
              "    <tr>\n",
              "      <th>1</th>\n",
              "      <td>5</td>\n",
              "      <td>21.0</td>\n",
              "      <td>185.0</td>\n",
              "      <td>Netherlands</td>\n",
              "      <td>NED</td>\n",
              "      <td>1988 Winter</td>\n",
              "      <td>1988</td>\n",
              "      <td>Winter</td>\n",
              "      <td>Calgary</td>\n",
              "      <td>Speed Skating</td>\n",
              "      <td>Speed Skating Women's 1,000 metres</td>\n",
              "      <td>NaN</td>\n",
              "    </tr>\n",
              "    <tr>\n",
              "      <th>2</th>\n",
              "      <td>5</td>\n",
              "      <td>25.0</td>\n",
              "      <td>185.0</td>\n",
              "      <td>Netherlands</td>\n",
              "      <td>NED</td>\n",
              "      <td>1992 Winter</td>\n",
              "      <td>1992</td>\n",
              "      <td>Winter</td>\n",
              "      <td>Albertville</td>\n",
              "      <td>Speed Skating</td>\n",
              "      <td>Speed Skating Women's 500 metres</td>\n",
              "      <td>NaN</td>\n",
              "    </tr>\n",
              "    <tr>\n",
              "      <th>3</th>\n",
              "      <td>5</td>\n",
              "      <td>25.0</td>\n",
              "      <td>185.0</td>\n",
              "      <td>Netherlands</td>\n",
              "      <td>NED</td>\n",
              "      <td>1992 Winter</td>\n",
              "      <td>1992</td>\n",
              "      <td>Winter</td>\n",
              "      <td>Albertville</td>\n",
              "      <td>Speed Skating</td>\n",
              "      <td>Speed Skating Women's 1,000 metres</td>\n",
              "      <td>NaN</td>\n",
              "    </tr>\n",
              "    <tr>\n",
              "      <th>4</th>\n",
              "      <td>5</td>\n",
              "      <td>27.0</td>\n",
              "      <td>185.0</td>\n",
              "      <td>Netherlands</td>\n",
              "      <td>NED</td>\n",
              "      <td>1994 Winter</td>\n",
              "      <td>1994</td>\n",
              "      <td>Winter</td>\n",
              "      <td>Lillehammer</td>\n",
              "      <td>Speed Skating</td>\n",
              "      <td>Speed Skating Women's 500 metres</td>\n",
              "      <td>NaN</td>\n",
              "    </tr>\n",
              "  </tbody>\n",
              "</table>\n",
              "</div>\n",
              "      <button class=\"colab-df-convert\" onclick=\"convertToInteractive('df-657fc796-c3af-4e94-8016-0ef9eedc6a55')\"\n",
              "              title=\"Convert this dataframe to an interactive table.\"\n",
              "              style=\"display:none;\">\n",
              "\n",
              "  <svg xmlns=\"http://www.w3.org/2000/svg\" height=\"24px\"viewBox=\"0 0 24 24\"\n",
              "       width=\"24px\">\n",
              "    <path d=\"M0 0h24v24H0V0z\" fill=\"none\"/>\n",
              "    <path d=\"M18.56 5.44l.94 2.06.94-2.06 2.06-.94-2.06-.94-.94-2.06-.94 2.06-2.06.94zm-11 1L8.5 8.5l.94-2.06 2.06-.94-2.06-.94L8.5 2.5l-.94 2.06-2.06.94zm10 10l.94 2.06.94-2.06 2.06-.94-2.06-.94-.94-2.06-.94 2.06-2.06.94z\"/><path d=\"M17.41 7.96l-1.37-1.37c-.4-.4-.92-.59-1.43-.59-.52 0-1.04.2-1.43.59L10.3 9.45l-7.72 7.72c-.78.78-.78 2.05 0 2.83L4 21.41c.39.39.9.59 1.41.59.51 0 1.02-.2 1.41-.59l7.78-7.78 2.81-2.81c.8-.78.8-2.07 0-2.86zM5.41 20L4 18.59l7.72-7.72 1.47 1.35L5.41 20z\"/>\n",
              "  </svg>\n",
              "      </button>\n",
              "\n",
              "\n",
              "\n",
              "    <div id=\"df-9476b5b6-fbb1-4009-8ea0-16acc32521d8\">\n",
              "      <button class=\"colab-df-quickchart\" onclick=\"quickchart('df-9476b5b6-fbb1-4009-8ea0-16acc32521d8')\"\n",
              "              title=\"Suggest charts.\"\n",
              "              style=\"display:none;\">\n",
              "\n",
              "<svg xmlns=\"http://www.w3.org/2000/svg\" height=\"24px\"viewBox=\"0 0 24 24\"\n",
              "     width=\"24px\">\n",
              "    <g>\n",
              "        <path d=\"M19 3H5c-1.1 0-2 .9-2 2v14c0 1.1.9 2 2 2h14c1.1 0 2-.9 2-2V5c0-1.1-.9-2-2-2zM9 17H7v-7h2v7zm4 0h-2V7h2v10zm4 0h-2v-4h2v4z\"/>\n",
              "    </g>\n",
              "</svg>\n",
              "      </button>\n",
              "    </div>\n",
              "\n",
              "<style>\n",
              "  .colab-df-quickchart {\n",
              "    background-color: #E8F0FE;\n",
              "    border: none;\n",
              "    border-radius: 50%;\n",
              "    cursor: pointer;\n",
              "    display: none;\n",
              "    fill: #1967D2;\n",
              "    height: 32px;\n",
              "    padding: 0 0 0 0;\n",
              "    width: 32px;\n",
              "  }\n",
              "\n",
              "  .colab-df-quickchart:hover {\n",
              "    background-color: #E2EBFA;\n",
              "    box-shadow: 0px 1px 2px rgba(60, 64, 67, 0.3), 0px 1px 3px 1px rgba(60, 64, 67, 0.15);\n",
              "    fill: #174EA6;\n",
              "  }\n",
              "\n",
              "  [theme=dark] .colab-df-quickchart {\n",
              "    background-color: #3B4455;\n",
              "    fill: #D2E3FC;\n",
              "  }\n",
              "\n",
              "  [theme=dark] .colab-df-quickchart:hover {\n",
              "    background-color: #434B5C;\n",
              "    box-shadow: 0px 1px 3px 1px rgba(0, 0, 0, 0.15);\n",
              "    filter: drop-shadow(0px 1px 2px rgba(0, 0, 0, 0.3));\n",
              "    fill: #FFFFFF;\n",
              "  }\n",
              "</style>\n",
              "\n",
              "    <script>\n",
              "      async function quickchart(key) {\n",
              "        const containerElement = document.querySelector('#' + key);\n",
              "        const charts = await google.colab.kernel.invokeFunction(\n",
              "            'suggestCharts', [key], {});\n",
              "      }\n",
              "    </script>\n",
              "\n",
              "      <script>\n",
              "\n",
              "function displayQuickchartButton(domScope) {\n",
              "  let quickchartButtonEl =\n",
              "    domScope.querySelector('#df-9476b5b6-fbb1-4009-8ea0-16acc32521d8 button.colab-df-quickchart');\n",
              "  quickchartButtonEl.style.display =\n",
              "    google.colab.kernel.accessAllowed ? 'block' : 'none';\n",
              "}\n",
              "\n",
              "        displayQuickchartButton(document);\n",
              "      </script>\n",
              "      <style>\n",
              "    .colab-df-container {\n",
              "      display:flex;\n",
              "      flex-wrap:wrap;\n",
              "      gap: 12px;\n",
              "    }\n",
              "\n",
              "    .colab-df-convert {\n",
              "      background-color: #E8F0FE;\n",
              "      border: none;\n",
              "      border-radius: 50%;\n",
              "      cursor: pointer;\n",
              "      display: none;\n",
              "      fill: #1967D2;\n",
              "      height: 32px;\n",
              "      padding: 0 0 0 0;\n",
              "      width: 32px;\n",
              "    }\n",
              "\n",
              "    .colab-df-convert:hover {\n",
              "      background-color: #E2EBFA;\n",
              "      box-shadow: 0px 1px 2px rgba(60, 64, 67, 0.3), 0px 1px 3px 1px rgba(60, 64, 67, 0.15);\n",
              "      fill: #174EA6;\n",
              "    }\n",
              "\n",
              "    [theme=dark] .colab-df-convert {\n",
              "      background-color: #3B4455;\n",
              "      fill: #D2E3FC;\n",
              "    }\n",
              "\n",
              "    [theme=dark] .colab-df-convert:hover {\n",
              "      background-color: #434B5C;\n",
              "      box-shadow: 0px 1px 3px 1px rgba(0, 0, 0, 0.15);\n",
              "      filter: drop-shadow(0px 1px 2px rgba(0, 0, 0, 0.3));\n",
              "      fill: #FFFFFF;\n",
              "    }\n",
              "  </style>\n",
              "\n",
              "      <script>\n",
              "        const buttonEl =\n",
              "          document.querySelector('#df-657fc796-c3af-4e94-8016-0ef9eedc6a55 button.colab-df-convert');\n",
              "        buttonEl.style.display =\n",
              "          google.colab.kernel.accessAllowed ? 'block' : 'none';\n",
              "\n",
              "        async function convertToInteractive(key) {\n",
              "          const element = document.querySelector('#df-657fc796-c3af-4e94-8016-0ef9eedc6a55');\n",
              "          const dataTable =\n",
              "            await google.colab.kernel.invokeFunction('convertToInteractive',\n",
              "                                                     [key], {});\n",
              "          if (!dataTable) return;\n",
              "\n",
              "          const docLinkHtml = 'Like what you see? Visit the ' +\n",
              "            '<a target=\"_blank\" href=https://colab.research.google.com/notebooks/data_table.ipynb>data table notebook</a>'\n",
              "            + ' to learn more about interactive tables.';\n",
              "          element.innerHTML = '';\n",
              "          dataTable['output_type'] = 'display_data';\n",
              "          await google.colab.output.renderOutput(dataTable, element);\n",
              "          const docLink = document.createElement('div');\n",
              "          docLink.innerHTML = docLinkHtml;\n",
              "          element.appendChild(docLink);\n",
              "        }\n",
              "      </script>\n",
              "    </div>\n",
              "  </div>\n"
            ]
          },
          "metadata": {},
          "execution_count": 29
        }
      ]
    },
    {
      "cell_type": "markdown",
      "source": [
        "\n",
        "<br />\n",
        "<h2> 1. Exploración de datos </h2>\n",
        "<hr>\n",
        "<ul type=none>\n",
        "  <li>a. ¿Cuántas filas hay?</li>\n",
        "</ul>\n",
        "\n",
        "\n"
      ],
      "metadata": {
        "id": "inJBJgTLiuP9"
      }
    },
    {
      "cell_type": "code",
      "source": [
        "print(\"El numero de filas es\", oli_df.shape[0])\n",
        "# pandas.shape obtiene una lista de dos elementos con el\n",
        "# numero de indices o filas y el numero de col."
      ],
      "metadata": {
        "colab": {
          "base_uri": "https://localhost:8080/"
        },
        "id": "C3cSmYoRjJi5",
        "outputId": "1448678b-9f3c-4695-bc94-1647b91b50cd"
      },
      "execution_count": 30,
      "outputs": [
        {
          "output_type": "stream",
          "name": "stdout",
          "text": [
            "El numero de filas es 40616\n"
          ]
        }
      ]
    },
    {
      "cell_type": "markdown",
      "source": [
        "<ul type=none>\n",
        "  <li>b. ¿Cuántas columnas hay?</li>\n",
        "</ul>"
      ],
      "metadata": {
        "id": "dXB3v-oUovdQ"
      }
    },
    {
      "cell_type": "code",
      "source": [
        "print(\"El numero de filas es\", oli_df.shape[1])\n",
        "# pandas.shape devuelve una lista, el segundo elemento\n",
        "#es el numero de columnas."
      ],
      "metadata": {
        "colab": {
          "base_uri": "https://localhost:8080/"
        },
        "id": "aGPM8MxHJA2F",
        "outputId": "a407d496-6548-4057-e710-9fcebd7690ca"
      },
      "execution_count": 31,
      "outputs": [
        {
          "output_type": "stream",
          "name": "stdout",
          "text": [
            "El numero de filas es 12\n"
          ]
        }
      ]
    },
    {
      "cell_type": "markdown",
      "source": [
        "<ul type=none>\n",
        "  <li>c. ¿A qué columnas le faltan datos?</li>\n",
        "</ul>"
      ],
      "metadata": {
        "id": "bXtHrCq0JRQZ"
      }
    },
    {
      "cell_type": "code",
      "source": [
        "oli_df.isna().sum()\n",
        "#ISNA DEVUELVE TRUE CUANDO UN VALOR ES NAN.\n",
        "#SE CUENTA CON .SUM()\n",
        "#DEVUELVE CADA COLUMNA CON SU NUMERO\n",
        "#DE VALORES VACIOS"
      ],
      "metadata": {
        "colab": {
          "base_uri": "https://localhost:8080/"
        },
        "id": "aAaA4j2UJXc1",
        "outputId": "9b87302f-d2a0-4cc3-b603-1a1cdc12c722"
      },
      "execution_count": 32,
      "outputs": [
        {
          "output_type": "execute_result",
          "data": {
            "text/plain": [
              "ID            0\n",
              "Age        1473\n",
              "Height     9001\n",
              "Team          0\n",
              "NOC           0\n",
              "Games         0\n",
              "Year          0\n",
              "Season        0\n",
              "City          0\n",
              "Sport         0\n",
              "Event         0\n",
              "Medal     34699\n",
              "dtype: int64"
            ]
          },
          "metadata": {},
          "execution_count": 32
        }
      ]
    },
    {
      "cell_type": "markdown",
      "source": [
        "<ul type=none>\n",
        "  <li><i>Faltan tantos datos en la columna de medallas, porque muy pocos del total obtuvieron una.</i></li>\n",
        "</ul>"
      ],
      "metadata": {
        "id": "xd1oJkAoMa3A"
      }
    },
    {
      "cell_type": "markdown",
      "source": [
        "<ul type=none>\n",
        "  <li>d. ¿Cuántas entradas corresponden a la ciudad de Londres?</li>\n",
        "</ul>"
      ],
      "metadata": {
        "id": "nabDRugoMyVo"
      }
    },
    {
      "cell_type": "code",
      "source": [
        "filtro_londres=oli_df['City']=='London'\n",
        "lond_count=oli_df[filtro_londres]['ID'].count()\n",
        "print('Corresponden a Londres este numero de entradas: ', lond_count)"
      ],
      "metadata": {
        "colab": {
          "base_uri": "https://localhost:8080/"
        },
        "id": "h6DcpHniLcpz",
        "outputId": "6b3076d7-b35e-4c43-a72f-ab172f0068bf"
      },
      "execution_count": 36,
      "outputs": [
        {
          "output_type": "stream",
          "name": "stdout",
          "text": [
            "Corresponden a Londres este numero de entradas:  3370\n"
          ]
        }
      ]
    },
    {
      "cell_type": "markdown",
      "source": [
        "<ul type=none>\n",
        "  <li>e. ¿Cuántos años tiene el atleta más joven en nuestros datos de muestra?</li>\n",
        "</ul>"
      ],
      "metadata": {
        "id": "APbx-E0KOYHD"
      }
    },
    {
      "cell_type": "code",
      "source": [
        "masjoven=oli_df['Age'].min()\n",
        "print('El/La atleta mas joven tiene ', int(masjoven), 'años')"
      ],
      "metadata": {
        "colab": {
          "base_uri": "https://localhost:8080/"
        },
        "id": "36ZFjgZSOgV_",
        "outputId": "1cb66a62-15bf-4470-cfd7-6e7de0dcd625"
      },
      "execution_count": 40,
      "outputs": [
        {
          "output_type": "stream",
          "name": "stdout",
          "text": [
            "El/La atleta mas joven tiene  11 años\n"
          ]
        }
      ]
    },
    {
      "cell_type": "markdown",
      "source": [
        "<br />\n",
        "<h2> 2. Crear Filtros </h2>\n",
        "<hr>\n",
        "<ul type=none>\n",
        "  <li>a. ¿Cuántos atletas que participaron en el deporte \"Tug-Of-War\" (tira y afloja) pertenecían en el equipo “Sweden” (sueco) en el conjunto de datos de muestra?</li>\n",
        "</ul>"
      ],
      "metadata": {
        "id": "7CoDqXkIPdMT"
      }
    },
    {
      "cell_type": "code",
      "source": [
        "#Grabo filtro en variable tug_swe\n",
        "tug_swe=(oli_df['Sport']=='Tug-Of-War') &( oli_df['Team']=='Sweden')\n",
        "\n",
        "atl_tug_swe=oli_df[tug_swe]['ID'].count()\n",
        "print(atl_tug_swe, 'atletas de Sweden participaron en Tug-Of-War')"
      ],
      "metadata": {
        "colab": {
          "base_uri": "https://localhost:8080/"
        },
        "id": "Aco-__3IPvQI",
        "outputId": "02b9c853-b9d4-49b2-bb2b-aa98ab8e5d39"
      },
      "execution_count": 44,
      "outputs": [
        {
          "output_type": "stream",
          "name": "stdout",
          "text": [
            "6 atletas de Sweden participaron en Tug-Of-War\n"
          ]
        }
      ]
    },
    {
      "cell_type": "markdown",
      "source": [
        "<ul type=none>\n",
        "  <li>b. ¿Cuántas medallas de oro se le entregaron a los atletas que tenían más de 40 años?</li>\n",
        "</ul>"
      ],
      "metadata": {
        "id": "crxmP7adSS4m"
      }
    },
    {
      "cell_type": "code",
      "source": [
        "#Grabo filtro en variable medal_40\n",
        "#Utilizo la negacion ~ de la funcion booleana isna()\n",
        "medal_40=~(oli_df['Medal'].isna()) & ( oli_df['Age']>=40)\n",
        "\n",
        "count_medal_40=oli_df[medal_40]['ID'].count()\n",
        "print(count_medal_40, 'atletas de mas de 40 ganaron medalla')"
      ],
      "metadata": {
        "colab": {
          "base_uri": "https://localhost:8080/"
        },
        "id": "7wGHeJLKSXq2",
        "outputId": "5a10fd01-3ae4-46b2-f039-87307b49b8a3"
      },
      "execution_count": 48,
      "outputs": [
        {
          "output_type": "stream",
          "name": "stdout",
          "text": [
            "207 atletas de mas de 40 ganaron medalla\n"
          ]
        }
      ]
    },
    {
      "cell_type": "markdown",
      "source": [
        "<br />\n",
        "<h2> 3. Determinar la altura promedio </h2>\n",
        "<hr>\n",
        "<ul type=none>\n",
        "  <li>a. Todas las filas incluidas.</li>\n",
        "</ul>"
      ],
      "metadata": {
        "id": "2FCYnOuxUeRZ"
      }
    },
    {
      "cell_type": "code",
      "source": [
        "# Se elimina de la columna Height todos los valores\n",
        "# nulos, guardo en una Serie\n",
        "\n",
        "altura_sin_na=oli_df['Height'].dropna()\n",
        "\n",
        "#Se utiliza la funcion mean() sobre todas las filas\n",
        "#de la Serie\n",
        "\n",
        "altura_prom=altura_sin_na.mean()\n",
        "print('Altura promedio de los atletas es: ', altura_prom.round(2))"
      ],
      "metadata": {
        "colab": {
          "base_uri": "https://localhost:8080/"
        },
        "id": "EjB-MgqxUmem",
        "outputId": "75354cc6-42b2-4645-ecfb-adf6b4393f6d"
      },
      "execution_count": 57,
      "outputs": [
        {
          "output_type": "stream",
          "name": "stdout",
          "text": [
            "Altura promedio de los atletas es:  175.38\n"
          ]
        }
      ]
    },
    {
      "cell_type": "markdown",
      "source": [
        "<ul type=none>\n",
        "  <li> b. Todas las filas incluidas, pero agrupadas por Event </li>\n",
        "</ul>"
      ],
      "metadata": {
        "id": "1GLlvyBCXIGy"
      }
    },
    {
      "cell_type": "code",
      "source": [
        "#En este caso es mejor eliminar los valores\n",
        "#en otro dataframe\n",
        "\n",
        "oli_df_alt=oli_df.dropna(subset='Height') #Ref: https://pandas.pydata.org/docs/reference/api/pandas.DataFrame.dropna.html\n",
        "\n",
        "#Del dataframe se agrupa por Event, y se obtiene el promedio usando mean sobre\n",
        "#el objeto groupby de la columna Height,\n",
        "#se redondea a 2 decimales\n",
        "\n",
        "oli_df_alt.groupby('Event')['Height'].mean().round(2).reset_index()"
      ],
      "metadata": {
        "colab": {
          "base_uri": "https://localhost:8080/",
          "height": 424
        },
        "id": "RZdcDp0EXPi-",
        "outputId": "4dd8defd-3fdd-4e4f-ab22-20988ca832f5"
      },
      "execution_count": 61,
      "outputs": [
        {
          "output_type": "execute_result",
          "data": {
            "text/plain": [
              "                                              Event  Height\n",
              "0                      Alpine Skiing Men's Combined  178.55\n",
              "1                      Alpine Skiing Men's Downhill  178.21\n",
              "2                  Alpine Skiing Men's Giant Slalom  176.74\n",
              "3                        Alpine Skiing Men's Slalom  176.48\n",
              "4                       Alpine Skiing Men's Super G  179.85\n",
              "..                                              ...     ...\n",
              "570          Wrestling Women's Flyweight, Freestyle  158.10\n",
              "571        Wrestling Women's Heavyweight, Freestyle  173.44\n",
              "572  Wrestling Women's Light-Heavyweight, Freestyle  170.00\n",
              "573        Wrestling Women's Lightweight, Freestyle  162.67\n",
              "574       Wrestling Women's Middleweight, Freestyle  164.53\n",
              "\n",
              "[575 rows x 2 columns]"
            ],
            "text/html": [
              "\n",
              "\n",
              "  <div id=\"df-ac5ab0c2-e35f-4f88-a07f-feb70cb9f24f\">\n",
              "    <div class=\"colab-df-container\">\n",
              "      <div>\n",
              "<style scoped>\n",
              "    .dataframe tbody tr th:only-of-type {\n",
              "        vertical-align: middle;\n",
              "    }\n",
              "\n",
              "    .dataframe tbody tr th {\n",
              "        vertical-align: top;\n",
              "    }\n",
              "\n",
              "    .dataframe thead th {\n",
              "        text-align: right;\n",
              "    }\n",
              "</style>\n",
              "<table border=\"1\" class=\"dataframe\">\n",
              "  <thead>\n",
              "    <tr style=\"text-align: right;\">\n",
              "      <th></th>\n",
              "      <th>Event</th>\n",
              "      <th>Height</th>\n",
              "    </tr>\n",
              "  </thead>\n",
              "  <tbody>\n",
              "    <tr>\n",
              "      <th>0</th>\n",
              "      <td>Alpine Skiing Men's Combined</td>\n",
              "      <td>178.55</td>\n",
              "    </tr>\n",
              "    <tr>\n",
              "      <th>1</th>\n",
              "      <td>Alpine Skiing Men's Downhill</td>\n",
              "      <td>178.21</td>\n",
              "    </tr>\n",
              "    <tr>\n",
              "      <th>2</th>\n",
              "      <td>Alpine Skiing Men's Giant Slalom</td>\n",
              "      <td>176.74</td>\n",
              "    </tr>\n",
              "    <tr>\n",
              "      <th>3</th>\n",
              "      <td>Alpine Skiing Men's Slalom</td>\n",
              "      <td>176.48</td>\n",
              "    </tr>\n",
              "    <tr>\n",
              "      <th>4</th>\n",
              "      <td>Alpine Skiing Men's Super G</td>\n",
              "      <td>179.85</td>\n",
              "    </tr>\n",
              "    <tr>\n",
              "      <th>...</th>\n",
              "      <td>...</td>\n",
              "      <td>...</td>\n",
              "    </tr>\n",
              "    <tr>\n",
              "      <th>570</th>\n",
              "      <td>Wrestling Women's Flyweight, Freestyle</td>\n",
              "      <td>158.10</td>\n",
              "    </tr>\n",
              "    <tr>\n",
              "      <th>571</th>\n",
              "      <td>Wrestling Women's Heavyweight, Freestyle</td>\n",
              "      <td>173.44</td>\n",
              "    </tr>\n",
              "    <tr>\n",
              "      <th>572</th>\n",
              "      <td>Wrestling Women's Light-Heavyweight, Freestyle</td>\n",
              "      <td>170.00</td>\n",
              "    </tr>\n",
              "    <tr>\n",
              "      <th>573</th>\n",
              "      <td>Wrestling Women's Lightweight, Freestyle</td>\n",
              "      <td>162.67</td>\n",
              "    </tr>\n",
              "    <tr>\n",
              "      <th>574</th>\n",
              "      <td>Wrestling Women's Middleweight, Freestyle</td>\n",
              "      <td>164.53</td>\n",
              "    </tr>\n",
              "  </tbody>\n",
              "</table>\n",
              "<p>575 rows × 2 columns</p>\n",
              "</div>\n",
              "      <button class=\"colab-df-convert\" onclick=\"convertToInteractive('df-ac5ab0c2-e35f-4f88-a07f-feb70cb9f24f')\"\n",
              "              title=\"Convert this dataframe to an interactive table.\"\n",
              "              style=\"display:none;\">\n",
              "\n",
              "  <svg xmlns=\"http://www.w3.org/2000/svg\" height=\"24px\"viewBox=\"0 0 24 24\"\n",
              "       width=\"24px\">\n",
              "    <path d=\"M0 0h24v24H0V0z\" fill=\"none\"/>\n",
              "    <path d=\"M18.56 5.44l.94 2.06.94-2.06 2.06-.94-2.06-.94-.94-2.06-.94 2.06-2.06.94zm-11 1L8.5 8.5l.94-2.06 2.06-.94-2.06-.94L8.5 2.5l-.94 2.06-2.06.94zm10 10l.94 2.06.94-2.06 2.06-.94-2.06-.94-.94-2.06-.94 2.06-2.06.94z\"/><path d=\"M17.41 7.96l-1.37-1.37c-.4-.4-.92-.59-1.43-.59-.52 0-1.04.2-1.43.59L10.3 9.45l-7.72 7.72c-.78.78-.78 2.05 0 2.83L4 21.41c.39.39.9.59 1.41.59.51 0 1.02-.2 1.41-.59l7.78-7.78 2.81-2.81c.8-.78.8-2.07 0-2.86zM5.41 20L4 18.59l7.72-7.72 1.47 1.35L5.41 20z\"/>\n",
              "  </svg>\n",
              "      </button>\n",
              "\n",
              "\n",
              "\n",
              "    <div id=\"df-5e76cc93-1a59-4d02-89b1-1d88fbca0ba0\">\n",
              "      <button class=\"colab-df-quickchart\" onclick=\"quickchart('df-5e76cc93-1a59-4d02-89b1-1d88fbca0ba0')\"\n",
              "              title=\"Suggest charts.\"\n",
              "              style=\"display:none;\">\n",
              "\n",
              "<svg xmlns=\"http://www.w3.org/2000/svg\" height=\"24px\"viewBox=\"0 0 24 24\"\n",
              "     width=\"24px\">\n",
              "    <g>\n",
              "        <path d=\"M19 3H5c-1.1 0-2 .9-2 2v14c0 1.1.9 2 2 2h14c1.1 0 2-.9 2-2V5c0-1.1-.9-2-2-2zM9 17H7v-7h2v7zm4 0h-2V7h2v10zm4 0h-2v-4h2v4z\"/>\n",
              "    </g>\n",
              "</svg>\n",
              "      </button>\n",
              "    </div>\n",
              "\n",
              "<style>\n",
              "  .colab-df-quickchart {\n",
              "    background-color: #E8F0FE;\n",
              "    border: none;\n",
              "    border-radius: 50%;\n",
              "    cursor: pointer;\n",
              "    display: none;\n",
              "    fill: #1967D2;\n",
              "    height: 32px;\n",
              "    padding: 0 0 0 0;\n",
              "    width: 32px;\n",
              "  }\n",
              "\n",
              "  .colab-df-quickchart:hover {\n",
              "    background-color: #E2EBFA;\n",
              "    box-shadow: 0px 1px 2px rgba(60, 64, 67, 0.3), 0px 1px 3px 1px rgba(60, 64, 67, 0.15);\n",
              "    fill: #174EA6;\n",
              "  }\n",
              "\n",
              "  [theme=dark] .colab-df-quickchart {\n",
              "    background-color: #3B4455;\n",
              "    fill: #D2E3FC;\n",
              "  }\n",
              "\n",
              "  [theme=dark] .colab-df-quickchart:hover {\n",
              "    background-color: #434B5C;\n",
              "    box-shadow: 0px 1px 3px 1px rgba(0, 0, 0, 0.15);\n",
              "    filter: drop-shadow(0px 1px 2px rgba(0, 0, 0, 0.3));\n",
              "    fill: #FFFFFF;\n",
              "  }\n",
              "</style>\n",
              "\n",
              "    <script>\n",
              "      async function quickchart(key) {\n",
              "        const containerElement = document.querySelector('#' + key);\n",
              "        const charts = await google.colab.kernel.invokeFunction(\n",
              "            'suggestCharts', [key], {});\n",
              "      }\n",
              "    </script>\n",
              "\n",
              "      <script>\n",
              "\n",
              "function displayQuickchartButton(domScope) {\n",
              "  let quickchartButtonEl =\n",
              "    domScope.querySelector('#df-5e76cc93-1a59-4d02-89b1-1d88fbca0ba0 button.colab-df-quickchart');\n",
              "  quickchartButtonEl.style.display =\n",
              "    google.colab.kernel.accessAllowed ? 'block' : 'none';\n",
              "}\n",
              "\n",
              "        displayQuickchartButton(document);\n",
              "      </script>\n",
              "      <style>\n",
              "    .colab-df-container {\n",
              "      display:flex;\n",
              "      flex-wrap:wrap;\n",
              "      gap: 12px;\n",
              "    }\n",
              "\n",
              "    .colab-df-convert {\n",
              "      background-color: #E8F0FE;\n",
              "      border: none;\n",
              "      border-radius: 50%;\n",
              "      cursor: pointer;\n",
              "      display: none;\n",
              "      fill: #1967D2;\n",
              "      height: 32px;\n",
              "      padding: 0 0 0 0;\n",
              "      width: 32px;\n",
              "    }\n",
              "\n",
              "    .colab-df-convert:hover {\n",
              "      background-color: #E2EBFA;\n",
              "      box-shadow: 0px 1px 2px rgba(60, 64, 67, 0.3), 0px 1px 3px 1px rgba(60, 64, 67, 0.15);\n",
              "      fill: #174EA6;\n",
              "    }\n",
              "\n",
              "    [theme=dark] .colab-df-convert {\n",
              "      background-color: #3B4455;\n",
              "      fill: #D2E3FC;\n",
              "    }\n",
              "\n",
              "    [theme=dark] .colab-df-convert:hover {\n",
              "      background-color: #434B5C;\n",
              "      box-shadow: 0px 1px 3px 1px rgba(0, 0, 0, 0.15);\n",
              "      filter: drop-shadow(0px 1px 2px rgba(0, 0, 0, 0.3));\n",
              "      fill: #FFFFFF;\n",
              "    }\n",
              "  </style>\n",
              "\n",
              "      <script>\n",
              "        const buttonEl =\n",
              "          document.querySelector('#df-ac5ab0c2-e35f-4f88-a07f-feb70cb9f24f button.colab-df-convert');\n",
              "        buttonEl.style.display =\n",
              "          google.colab.kernel.accessAllowed ? 'block' : 'none';\n",
              "\n",
              "        async function convertToInteractive(key) {\n",
              "          const element = document.querySelector('#df-ac5ab0c2-e35f-4f88-a07f-feb70cb9f24f');\n",
              "          const dataTable =\n",
              "            await google.colab.kernel.invokeFunction('convertToInteractive',\n",
              "                                                     [key], {});\n",
              "          if (!dataTable) return;\n",
              "\n",
              "          const docLinkHtml = 'Like what you see? Visit the ' +\n",
              "            '<a target=\"_blank\" href=https://colab.research.google.com/notebooks/data_table.ipynb>data table notebook</a>'\n",
              "            + ' to learn more about interactive tables.';\n",
              "          element.innerHTML = '';\n",
              "          dataTable['output_type'] = 'display_data';\n",
              "          await google.colab.output.renderOutput(dataTable, element);\n",
              "          const docLink = document.createElement('div');\n",
              "          docLink.innerHTML = docLinkHtml;\n",
              "          element.appendChild(docLink);\n",
              "        }\n",
              "      </script>\n",
              "    </div>\n",
              "  </div>\n"
            ]
          },
          "metadata": {},
          "execution_count": 61
        }
      ]
    },
    {
      "cell_type": "markdown",
      "source": [
        "<ul type=none>\n",
        "  <li> BONO: Para la tarea del bono queremos que obtengan la altura promedio de todos los atletas, pero sin incluir algún atleta más de una vez.  </li>\n",
        "</ul>"
      ],
      "metadata": {
        "id": "kgCMLgF4Y-Ib"
      }
    },
    {
      "cell_type": "code",
      "source": [
        "#Creo dataframe sin duplicados en columna ID, mantengo primer valor\n",
        "oli_atleta_unico= oli_df.drop_duplicates(subset = 'ID', keep = 'first')\n",
        "\n",
        "oli_atleta_unico=oli_atleta_unico.dropna(subset='Height') #Elimino valores NA\n",
        "\n",
        "#Se obtiene el promedio sin contar dos veces al mismo atleta:\n",
        "altura_prom_sindup=oli_atleta_unico['Height'].mean()\n",
        "print('Altura promedio de todas las filas sin duplicar atleta es :' )\n",
        "print(altura_prom_sindup.round(2))"
      ],
      "metadata": {
        "colab": {
          "base_uri": "https://localhost:8080/"
        },
        "id": "SBvRzcW7ZLWw",
        "outputId": "59b801a9-1e2a-464b-fcff-7f081a602b02"
      },
      "execution_count": 62,
      "outputs": [
        {
          "output_type": "stream",
          "name": "stdout",
          "text": [
            "Altura promedio de todas las filas sin duplicar atleta es :\n",
            "176.32\n"
          ]
        }
      ]
    }
  ]
}